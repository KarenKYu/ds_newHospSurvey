{
 "cells": [
  {
   "cell_type": "code",
   "execution_count": 3,
   "metadata": {},
   "outputs": [
    {
     "name": "stderr",
     "output_type": "stream",
     "text": [
      "C:\\Users\\karen\\Anaconda3\\lib\\site-packages\\IPython\\core\\interactiveshell.py:3020: DtypeWarning: Columns (12) have mixed types. Specify dtype option on import or set low_memory=False.\n",
      "  interactivity=interactivity, compiler=compiler, result=result)\n"
     ]
    }
   ],
   "source": [
    "import pandas as pd\n",
    "df= pd.read_csv('Patient_survey__HCAHPS__-_Hospital.csv',encoding = \"utf-8\")\n",
    "hosp_surveys= df.to_dict(\"records\")"
   ]
  },
  {
   "cell_type": "code",
   "execution_count": 4,
   "metadata": {},
   "outputs": [
    {
     "data": {
      "text/plain": [
       "{'Facility ID': '530025',\n",
       " 'Facility Name': 'IVINSON MEMORIAL HOSPITAL',\n",
       " 'Address': '255 N 30TH',\n",
       " 'City': 'LARAMIE',\n",
       " 'State': 'WY',\n",
       " 'ZIP Code': 82072,\n",
       " 'County Name': 'ALBANY',\n",
       " 'Phone Number': '(307) 755-4600',\n",
       " 'HCAHPS Measure ID': 'H_COMP_7_STAR_RATING',\n",
       " 'HCAHPS Question': 'Care transition - star rating',\n",
       " 'HCAHPS Answer Description': 'Care transition - star rating',\n",
       " 'Patient Survey Star Rating': '4',\n",
       " 'Patient Survey Star Rating Footnote': nan,\n",
       " 'HCAHPS Answer Percent': 'Not Applicable',\n",
       " 'HCAHPS Answer Percent Footnote': nan,\n",
       " 'HCAHPS Linear Mean Value': 'Not Applicable',\n",
       " 'Number of Completed Surveys': '434',\n",
       " 'Number of Completed Surveys Footnote': nan,\n",
       " 'Survey Response Rate Percent': '34',\n",
       " 'Survey Response Rate Percent Footnote': nan,\n",
       " 'Start Date': '04/01/2018',\n",
       " 'End Date': '03/31/2019',\n",
       " 'Location': 'POINT (-105.557512 41.31139)'}"
      ]
     },
     "execution_count": 4,
     "metadata": {},
     "output_type": "execute_result"
    }
   ],
   "source": [
    "first_hosp= hosp_surveys[0]\n",
    "first_hosp"
   ]
  },
  {
   "cell_type": "code",
   "execution_count": 18,
   "metadata": {},
   "outputs": [],
   "source": [
    "hosp_col=['Facility ID','Facility Name','Address','City','State','ZIP Code','County Name','Phone Number','HCAHPS Measure ID','HCAHPS Question','HCAHPS Answer Description', 'Patient Survey Star Rating', 'HCAHPS Answer Percent', 'Number of Completed Surveys', 'Survey Response Rate Percent','Location']"
   ]
  },
  {
   "cell_type": "code",
   "execution_count": 24,
   "metadata": {},
   "outputs": [
    {
     "data": {
      "text/plain": [
       "{'Facility ID': '530025',\n",
       " 'Facility Name': 'IVINSON MEMORIAL HOSPITAL',\n",
       " 'Address': '255 N 30TH',\n",
       " 'City': 'LARAMIE',\n",
       " 'State': 'WY',\n",
       " 'ZIP Code': 82072,\n",
       " 'County Name': 'ALBANY',\n",
       " 'Phone Number': '(307) 755-4600',\n",
       " 'HCAHPS Measure ID': 'H_COMP_7_STAR_RATING',\n",
       " 'HCAHPS Question': 'Care transition - star rating',\n",
       " 'HCAHPS Answer Description': 'Care transition - star rating',\n",
       " 'Patient Survey Star Rating': '4',\n",
       " 'HCAHPS Answer Percent': 'Not Applicable',\n",
       " 'Number of Completed Surveys': '434',\n",
       " 'Survey Response Rate Percent': '34',\n",
       " 'Location': 'POINT (-105.557512 41.31139)'}"
      ]
     },
     "execution_count": 24,
     "metadata": {},
     "output_type": "execute_result"
    }
   ],
   "source": [
    "{k:v for k,v in first_hosp.items() if k in hosp_col}"
   ]
  },
  {
   "cell_type": "code",
   "execution_count": 12,
   "metadata": {
    "collapsed": true
   },
   "outputs": [
    {
     "ename": "TypeError",
     "evalue": "list indices must be integers or slices, not list",
     "output_type": "error",
     "traceback": [
      "\u001b[1;31m---------------------------------------------------------------------------\u001b[0m",
      "\u001b[1;31mTypeError\u001b[0m                                 Traceback (most recent call last)",
      "\u001b[1;32m<ipython-input-12-913e17d3b59e>\u001b[0m in \u001b[0;36m<module>\u001b[1;34m\u001b[0m\n\u001b[1;32m----> 1\u001b[1;33m \u001b[0mhosp_surveys\u001b[0m\u001b[1;33m[\u001b[0m\u001b[1;33m[\u001b[0m\u001b[1;34m'Facility ID'\u001b[0m\u001b[1;33m,\u001b[0m\u001b[1;34m'Facility Name'\u001b[0m\u001b[1;33m,\u001b[0m \u001b[1;34m'Address'\u001b[0m\u001b[1;33m,\u001b[0m \u001b[1;34m'City'\u001b[0m\u001b[1;33m,\u001b[0m \u001b[1;34m'State'\u001b[0m\u001b[1;33m,\u001b[0m \u001b[1;34m'ZIP Code'\u001b[0m\u001b[1;33m,\u001b[0m \u001b[1;34m'County Name'\u001b[0m\u001b[1;33m,\u001b[0m \u001b[1;34m'Phone Number'\u001b[0m\u001b[1;33m,\u001b[0m\u001b[1;34m'HCAHPS Measure ID'\u001b[0m\u001b[1;33m,\u001b[0m \u001b[1;34m'HCAHPS Question'\u001b[0m\u001b[1;33m,\u001b[0m\u001b[1;34m'HCAHPS Answer Description'\u001b[0m\u001b[1;33m,\u001b[0m \u001b[1;34m'Patient Survey Star Rating'\u001b[0m\u001b[1;33m,\u001b[0m \u001b[1;34m'HCAHPS Answer Percent'\u001b[0m\u001b[1;33m,\u001b[0m \u001b[1;34m'Number of Completed Surveys'\u001b[0m\u001b[1;33m,\u001b[0m \u001b[1;34m'Survey Response Rate Percent'\u001b[0m\u001b[1;33m,\u001b[0m \u001b[1;34m'Location'\u001b[0m\u001b[1;33m]\u001b[0m\u001b[1;33m]\u001b[0m\u001b[1;33m.\u001b[0m\u001b[0mhead\u001b[0m\u001b[1;33m(\u001b[0m\u001b[1;33m)\u001b[0m\u001b[1;33m\u001b[0m\u001b[1;33m\u001b[0m\u001b[0m\n\u001b[0m",
      "\u001b[1;31mTypeError\u001b[0m: list indices must be integers or slices, not list"
     ]
    }
   ],
   "source": [
    "#hosp_surveys.loc[['Facility ID','Facility Name', 'Address', 'City', 'State', 'ZIP Code', 'County Name', 'Phone Number','HCAHPS Measure ID', 'HCAHPS Question','HCAHPS Answer Description', 'Patient Survey Star Rating', 'HCAHPS Answer Percent', 'Number of Completed Surveys', 'Survey Response Rate Percent', 'Location']].head()"
   ]
  },
  {
   "cell_type": "code",
   "execution_count": 25,
   "metadata": {},
   "outputs": [],
   "source": [
    "survey_list=[]\n",
    "for hosp_survey in hosp_surveys:\n",
    "    survey_list.append({k:v for k,v in first_hosp.items() if k in hosp_col})"
   ]
  },
  {
   "cell_type": "code",
   "execution_count": 27,
   "metadata": {},
   "outputs": [
    {
     "data": {
      "text/plain": [
       "456072"
      ]
     },
     "execution_count": 27,
     "metadata": {},
     "output_type": "execute_result"
    }
   ],
   "source": [
    "len(survey_list)"
   ]
  },
  {
   "cell_type": "code",
   "execution_count": 30,
   "metadata": {},
   "outputs": [
    {
     "data": {
      "text/plain": [
       "[{'Facility ID': '530025',\n",
       "  'Facility Name': 'IVINSON MEMORIAL HOSPITAL',\n",
       "  'Address': '255 N 30TH',\n",
       "  'City': 'LARAMIE',\n",
       "  'State': 'WY',\n",
       "  'ZIP Code': 82072,\n",
       "  'County Name': 'ALBANY',\n",
       "  'Phone Number': '(307) 755-4600',\n",
       "  'HCAHPS Measure ID': 'H_COMP_7_STAR_RATING',\n",
       "  'HCAHPS Question': 'Care transition - star rating',\n",
       "  'HCAHPS Answer Description': 'Care transition - star rating',\n",
       "  'Patient Survey Star Rating': '4',\n",
       "  'HCAHPS Answer Percent': 'Not Applicable',\n",
       "  'Number of Completed Surveys': '434',\n",
       "  'Survey Response Rate Percent': '34',\n",
       "  'Location': 'POINT (-105.557512 41.31139)'}]"
      ]
     },
     "execution_count": 30,
     "metadata": {},
     "output_type": "execute_result"
    }
   ],
   "source": [
    "survey_list[:1]"
   ]
  },
  {
   "cell_type": "code",
   "execution_count": 2,
   "metadata": {},
   "outputs": [
    {
     "ename": "NameError",
     "evalue": "name 'hosp_surveys' is not defined",
     "output_type": "error",
     "traceback": [
      "\u001b[1;31m---------------------------------------------------------------------------\u001b[0m",
      "\u001b[1;31mNameError\u001b[0m                                 Traceback (most recent call last)",
      "\u001b[1;32mcell_name\u001b[0m in \u001b[0;36masync-def-wrapper\u001b[1;34m()\u001b[0m\n",
      "\u001b[1;31mNameError\u001b[0m: name 'hosp_surveys' is not defined"
     ]
    }
   ],
   "source": [
    "def scoped_surveys(hosp_surveys):\n",
    "    survey_list=[]\n",
    "for hosp_survey in hosp_surveys:\n",
    "    return survey_list.append({k:v for k,v in first_hosp.items() if k in hosp_col})"
   ]
  },
  {
   "cell_type": "code",
   "execution_count": 44,
   "metadata": {},
   "outputs": [],
   "source": [
    "scoped_surveys(hosp_surveys)"
   ]
  },
  {
   "cell_type": "code",
   "execution_count": 5,
   "metadata": {},
   "outputs": [
    {
     "data": {
      "text/plain": [
       "'C:\\\\Users\\\\karen'"
      ]
     },
     "execution_count": 5,
     "metadata": {},
     "output_type": "execute_result"
    }
   ],
   "source": [
    "pwd\n"
   ]
  },
  {
   "cell_type": "code",
   "execution_count": null,
   "metadata": {},
   "outputs": [],
   "source": []
  }
 ],
 "metadata": {
  "kernelspec": {
   "display_name": "Python 3",
   "language": "python",
   "name": "python3"
  },
  "language_info": {
   "codemirror_mode": {
    "name": "ipython",
    "version": 3
   },
   "file_extension": ".py",
   "mimetype": "text/x-python",
   "name": "python",
   "nbconvert_exporter": "python",
   "pygments_lexer": "ipython3",
   "version": "3.6.7"
  }
 },
 "nbformat": 4,
 "nbformat_minor": 2
}
